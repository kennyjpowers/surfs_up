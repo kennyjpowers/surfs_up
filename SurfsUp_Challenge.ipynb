{
 "cells": [
  {
   "cell_type": "code",
   "execution_count": 3,
   "metadata": {},
   "outputs": [],
   "source": [
    "# Dependencies\n",
    "import numpy as np\n",
    "\n",
    "# Python SQL toolkit and Object Relational Mapper\n",
    "import sqlalchemy\n",
    "from sqlalchemy.ext.automap import automap_base\n",
    "from sqlalchemy.orm import Session\n",
    "from sqlalchemy import create_engine, func\n",
    "import pandas as pd"
   ]
  },
  {
   "cell_type": "code",
   "execution_count": 4,
   "metadata": {},
   "outputs": [],
   "source": [
    "engine = create_engine(\"sqlite:///hawaii.sqlite\")\n",
    "\n",
    "# reflect an existing database into a new model\n",
    "Base = automap_base()\n",
    "# reflect the tables\n",
    "Base.prepare(engine, reflect=True)\n",
    "\n",
    "# Save references to each table\n",
    "Measurement = Base.classes.measurement\n",
    "Station = Base.classes.station"
   ]
  },
  {
   "cell_type": "code",
   "execution_count": 5,
   "metadata": {},
   "outputs": [],
   "source": [
    "# Create our session (link) from Python to the DB\n",
    "session = Session(engine)"
   ]
  },
  {
   "cell_type": "markdown",
   "metadata": {},
   "source": [
    "## D1: Determine the Summary Statistics for June"
   ]
  },
  {
   "cell_type": "code",
   "execution_count": 37,
   "metadata": {},
   "outputs": [],
   "source": [
    "# 1. Import the sqlalchemy extract function.\n",
    "from sqlalchemy import extract\n",
    "\n",
    "# 2. Write a query that filters the Measurement table to retrieve the temperatures for the month of June. \n",
    "june_query = session.query(Measurement.date, Measurement.tobs).filter(extract('month', Measurement.date)==6)"
   ]
  },
  {
   "cell_type": "code",
   "execution_count": 38,
   "metadata": {},
   "outputs": [],
   "source": [
    "#  3. Convert the June temperatures to a list.\n",
    "june_results = june_query.all()"
   ]
  },
  {
   "cell_type": "code",
   "execution_count": 39,
   "metadata": {},
   "outputs": [],
   "source": [
    "# 4. Create a DataFrame from the list of temperatures for the month of June. \n",
    "june_df = pd.DataFrame(june_results, columns=['date','June Temps'])"
   ]
  },
  {
   "cell_type": "code",
   "execution_count": 40,
   "metadata": {},
   "outputs": [
    {
     "data": {
      "text/html": [
       "<div>\n",
       "<style scoped>\n",
       "    .dataframe tbody tr th:only-of-type {\n",
       "        vertical-align: middle;\n",
       "    }\n",
       "\n",
       "    .dataframe tbody tr th {\n",
       "        vertical-align: top;\n",
       "    }\n",
       "\n",
       "    .dataframe thead th {\n",
       "        text-align: right;\n",
       "    }\n",
       "</style>\n",
       "<table border=\"1\" class=\"dataframe\">\n",
       "  <thead>\n",
       "    <tr style=\"text-align: right;\">\n",
       "      <th></th>\n",
       "      <th>June Temps</th>\n",
       "    </tr>\n",
       "  </thead>\n",
       "  <tbody>\n",
       "    <tr>\n",
       "      <th>count</th>\n",
       "      <td>1700.000000</td>\n",
       "    </tr>\n",
       "    <tr>\n",
       "      <th>mean</th>\n",
       "      <td>74.944118</td>\n",
       "    </tr>\n",
       "    <tr>\n",
       "      <th>std</th>\n",
       "      <td>3.257417</td>\n",
       "    </tr>\n",
       "    <tr>\n",
       "      <th>min</th>\n",
       "      <td>64.000000</td>\n",
       "    </tr>\n",
       "    <tr>\n",
       "      <th>25%</th>\n",
       "      <td>73.000000</td>\n",
       "    </tr>\n",
       "    <tr>\n",
       "      <th>50%</th>\n",
       "      <td>75.000000</td>\n",
       "    </tr>\n",
       "    <tr>\n",
       "      <th>75%</th>\n",
       "      <td>77.000000</td>\n",
       "    </tr>\n",
       "    <tr>\n",
       "      <th>max</th>\n",
       "      <td>85.000000</td>\n",
       "    </tr>\n",
       "  </tbody>\n",
       "</table>\n",
       "</div>"
      ],
      "text/plain": [
       "        June Temps\n",
       "count  1700.000000\n",
       "mean     74.944118\n",
       "std       3.257417\n",
       "min      64.000000\n",
       "25%      73.000000\n",
       "50%      75.000000\n",
       "75%      77.000000\n",
       "max      85.000000"
      ]
     },
     "execution_count": 40,
     "metadata": {},
     "output_type": "execute_result"
    }
   ],
   "source": [
    "# 5. Calculate and print out the summary statistics for the June temperature DataFrame.\n",
    "june_df.describe()"
   ]
  },
  {
   "cell_type": "markdown",
   "metadata": {},
   "source": [
    "## D2: Determine the Summary Statistics for December"
   ]
  },
  {
   "cell_type": "code",
   "execution_count": 11,
   "metadata": {},
   "outputs": [],
   "source": [
    "# 6. Write a query that filters the Measurement table to retrieve the temperatures for the month of December.\n",
    "dec_query = session.query(Measurement.date, Measurement.tobs).filter(extract('month', Measurement.date)==12)"
   ]
  },
  {
   "cell_type": "code",
   "execution_count": 12,
   "metadata": {},
   "outputs": [],
   "source": [
    "# 7. Convert the December temperatures to a list.\n",
    "dec_results = dec_query.all()"
   ]
  },
  {
   "cell_type": "code",
   "execution_count": 13,
   "metadata": {},
   "outputs": [],
   "source": [
    "# 8. Create a DataFrame from the list of temperatures for the month of December. \n",
    "dec_df = pd.DataFrame(dec_results, columns=['data', 'December Temps'])"
   ]
  },
  {
   "cell_type": "code",
   "execution_count": 14,
   "metadata": {},
   "outputs": [
    {
     "data": {
      "text/html": [
       "<div>\n",
       "<style scoped>\n",
       "    .dataframe tbody tr th:only-of-type {\n",
       "        vertical-align: middle;\n",
       "    }\n",
       "\n",
       "    .dataframe tbody tr th {\n",
       "        vertical-align: top;\n",
       "    }\n",
       "\n",
       "    .dataframe thead th {\n",
       "        text-align: right;\n",
       "    }\n",
       "</style>\n",
       "<table border=\"1\" class=\"dataframe\">\n",
       "  <thead>\n",
       "    <tr style=\"text-align: right;\">\n",
       "      <th></th>\n",
       "      <th>December Temps</th>\n",
       "    </tr>\n",
       "  </thead>\n",
       "  <tbody>\n",
       "    <tr>\n",
       "      <th>count</th>\n",
       "      <td>1517.000000</td>\n",
       "    </tr>\n",
       "    <tr>\n",
       "      <th>mean</th>\n",
       "      <td>71.041529</td>\n",
       "    </tr>\n",
       "    <tr>\n",
       "      <th>std</th>\n",
       "      <td>3.745920</td>\n",
       "    </tr>\n",
       "    <tr>\n",
       "      <th>min</th>\n",
       "      <td>56.000000</td>\n",
       "    </tr>\n",
       "    <tr>\n",
       "      <th>25%</th>\n",
       "      <td>69.000000</td>\n",
       "    </tr>\n",
       "    <tr>\n",
       "      <th>50%</th>\n",
       "      <td>71.000000</td>\n",
       "    </tr>\n",
       "    <tr>\n",
       "      <th>75%</th>\n",
       "      <td>74.000000</td>\n",
       "    </tr>\n",
       "    <tr>\n",
       "      <th>max</th>\n",
       "      <td>83.000000</td>\n",
       "    </tr>\n",
       "  </tbody>\n",
       "</table>\n",
       "</div>"
      ],
      "text/plain": [
       "       December Temps\n",
       "count     1517.000000\n",
       "mean        71.041529\n",
       "std          3.745920\n",
       "min         56.000000\n",
       "25%         69.000000\n",
       "50%         71.000000\n",
       "75%         74.000000\n",
       "max         83.000000"
      ]
     },
     "execution_count": 14,
     "metadata": {},
     "output_type": "execute_result"
    }
   ],
   "source": [
    "# 9. Calculate and print out the summary statistics for the Decemeber temperature DataFrame.\n",
    "dec_df.describe()"
   ]
  },
  {
   "cell_type": "markdown",
   "metadata": {},
   "source": [
    "## Additional Queries\n"
   ]
  },
  {
   "cell_type": "code",
   "execution_count": 41,
   "metadata": {},
   "outputs": [],
   "source": [
    "december_2010_query = session.query(Measurement.date, Measurement.tobs).filter(extract('month', Measurement.date)==12).filter(extract('year', Measurement.date)==2010)"
   ]
  },
  {
   "cell_type": "code",
   "execution_count": 48,
   "metadata": {},
   "outputs": [],
   "source": [
    "december_bad_days_query = session.query(Measurement.date, Measurement.tobs, Measurement.prcp).filter(Measurement.prcp > 0.0).filter(Measurement.tobs < 70).filter(extract('month', Measurement.date)==12)\n",
    "#.filter(extract('month', Measurement.date)==12)\n",
    "#.filter(Measurement.prcp > 0.0).filter(Measurement.tobs < 70))"
   ]
  },
  {
   "cell_type": "code",
   "execution_count": 49,
   "metadata": {},
   "outputs": [
    {
     "name": "stdout",
     "output_type": "stream",
     "text": [
      "[('2010-12-10', 66.0, 1.58), ('2010-12-11', 69.0, 0.77), ('2011-12-01', 69.0, 0.03), ('2011-12-02', 68.0, 0.08), ('2011-12-18', 69.0, 0.02), ('2011-12-31', 63.0, 0.01), ('2012-12-31', 68.0, 0.04), ('2013-12-16', 68.0, 1.1), ('2013-12-17', 65.0, 0.02), ('2013-12-19', 69.0, 0.16), ('2013-12-20', 69.0, 0.09), ('2014-12-24', 66.0, 0.04), ('2014-12-25', 61.0, 0.02), ('2014-12-31', 56.0, 0.05), ('2016-12-05', 68.0, 0.43), ('2016-12-06', 67.0, 0.02), ('2016-12-12', 66.0, 0.01), ('2016-12-13', 67.0, 0.05), ('2016-12-19', 69.0, 0.01), ('2016-12-30', 69.0, 0.12), ('2016-12-31', 66.0, 0.01), ('2010-12-10', 65.0, 1.95), ('2010-12-11', 69.0, 0.62), ('2010-12-13', 69.0, 0.47), ('2010-12-25', 69.0, 2.95), ('2011-12-01', 69.0, 0.11), ('2011-12-02', 68.0, 0.14), ('2011-12-09', 68.0, 0.07), ('2011-12-21', 69.0, 0.24), ('2011-12-24', 69.0, 0.02), ('2011-12-31', 67.0, 0.04), ('2012-12-04', 68.0, 0.18), ('2012-12-23', 66.0, 0.02), ('2012-12-30', 68.0, 0.21), ('2012-12-31', 67.0, 0.17), ('2013-12-16', 68.0, 1.31), ('2013-12-17', 68.0, 0.01), ('2013-12-22', 69.0, 0.02), ('2013-12-31', 68.0, 0.09), ('2014-12-03', 69.0, 0.05), ('2014-12-04', 67.0, 1.35), ('2014-12-24', 68.0, 1.24), ('2014-12-31', 64.0, 0.72), ('2015-12-08', 69.0, 0.08), ('2015-12-14', 69.0, 0.69), ('2015-12-29', 67.0, 0.11), ('2016-12-04', 69.0, 0.1), ('2016-12-05', 68.0, 0.34), ('2016-12-12', 68.0, 0.01), ('2016-12-13', 68.0, 0.1), ('2016-12-16', 63.0, 0.01), ('2016-12-18', 67.0, 0.29), ('2016-12-19', 69.0, 0.21), ('2016-12-23', 69.0, 0.1), ('2016-12-30', 69.0, 0.21), ('2010-12-10', 64.0, 2.01), ('2010-12-11', 64.0, 0.26), ('2010-12-19', 67.0, 2.43), ('2010-12-20', 68.0, 2.55), ('2010-12-22', 67.0, 0.05), ('2010-12-28', 69.0, 0.96), ('2011-12-02', 68.0, 0.24), ('2011-12-16', 69.0, 0.07), ('2010-12-10', 68.0, 1.75), ('2011-12-07', 69.0, 0.07), ('2011-12-13', 69.0, 2.8), ('2013-12-06', 69.0, 0.02), ('2014-12-24', 69.0, 0.02), ('2015-12-02', 65.0, 0.28), ('2010-12-10', 63.0, 2.5), ('2010-12-16', 68.0, 0.05), ('2010-12-08', 65.0, 0.15), ('2010-12-10', 67.0, 2.02), ('2010-12-11', 69.0, 0.3), ('2010-12-13', 67.0, 0.02), ('2010-12-24', 67.0, 0.02), ('2010-12-31', 69.0, 0.01), ('2011-12-01', 69.0, 0.12), ('2011-12-02', 69.0, 0.42), ('2013-12-02', 68.0, 2.25), ('2013-12-13', 69.0, 0.02), ('2013-12-16', 65.0, 0.88), ('2013-12-22', 69.0, 0.01), ('2014-12-24', 68.0, 1.01), ('2014-12-25', 66.0, 0.53), ('2014-12-31', 56.0, 0.63), ('2015-12-14', 69.0, 0.03), ('2015-12-29', 69.0, 0.01), ('2016-12-13', 69.0, 0.15), ('2010-12-10', 65.0, 1.72), ('2010-12-13', 68.0, 0.22), ('2010-12-14', 67.0, 0.02), ('2010-12-19', 69.0, 2.77), ('2010-12-22', 68.0, 0.02), ('2010-12-23', 69.0, 0.23), ('2011-12-01', 67.0, 0.05), ('2011-12-02', 69.0, 0.29), ('2011-12-07', 68.0, 0.05), ('2011-12-09', 66.0, 0.1), ('2011-12-17', 69.0, 0.38), ('2011-12-21', 69.0, 0.58), ('2011-12-23', 69.0, 0.12), ('2011-12-28', 69.0, 0.02), ('2011-12-30', 65.0, 0.01), ('2011-12-31', 67.0, 0.1), ('2012-12-04', 67.0, 0.02), ('2012-12-06', 69.0, 0.01), ('2012-12-13', 68.0, 0.13), ('2012-12-23', 65.0, 0.1), ('2012-12-29', 69.0, 0.01), ('2012-12-30', 69.0, 0.35), ('2012-12-31', 66.0, 0.42), ('2013-12-04', 66.0, 0.01), ('2013-12-12', 67.0, 0.03), ('2013-12-15', 69.0, 0.06), ('2013-12-16', 63.0, 1.97), ('2013-12-17', 64.0, 0.02), ('2013-12-18', 66.0, 0.02), ('2013-12-19', 69.0, 0.77), ('2013-12-20', 69.0, 1.14), ('2013-12-23', 69.0, 0.06), ('2013-12-26', 68.0, 0.05), ('2013-12-27', 69.0, 0.01), ('2013-12-31', 65.0, 0.08), ('2014-12-03', 68.0, 0.41), ('2014-12-04', 66.0, 1.56), ('2014-12-05', 68.0, 0.04), ('2014-12-06', 65.0, 0.63), ('2014-12-07', 62.0, 0.01), ('2014-12-12', 68.0, 0.07), ('2014-12-13', 67.0, 0.01), ('2014-12-14', 68.0, 0.13), ('2014-12-16', 69.0, 0.08), ('2014-12-23', 69.0, 1.07), ('2014-12-24', 66.0, 1.1), ('2014-12-25', 60.0, 0.36), ('2014-12-31', 59.0, 0.66), ('2015-12-07', 69.0, 0.02), ('2015-12-08', 68.0, 0.02), ('2015-12-13', 69.0, 0.03), ('2015-12-14', 67.0, 0.13), ('2016-12-05', 67.0, 0.22), ('2016-12-07', 69.0, 0.12), ('2016-12-09', 68.0, 0.31), ('2016-12-10', 69.0, 0.02), ('2016-12-13', 65.0, 0.04), ('2016-12-14', 68.0, 0.92), ('2016-12-15', 62.0, 0.14), ('2016-12-18', 69.0, 0.16), ('2016-12-30', 69.0, 0.29), ('2016-12-31', 67.0, 0.25), ('2010-12-10', 65.0, 1.8), ('2010-12-12', 65.0, 0.01), ('2010-12-19', 69.0, 4.0), ('2010-12-22', 68.0, 0.04), ('2010-12-24', 69.0, 0.05), ('2011-12-02', 69.0, 0.01), ('2011-12-09', 65.0, 0.05), ('2011-12-13', 67.0, 0.1), ('2011-12-14', 65.0, 0.06), ('2011-12-15', 68.0, 0.01), ('2011-12-16', 66.0, 0.01), ('2011-12-21', 69.0, 0.03), ('2011-12-31', 65.0, 0.01), ('2012-12-06', 64.0, 0.01), ('2013-12-02', 68.0, 0.87), ('2013-12-04', 66.0, 0.01), ('2013-12-12', 65.0, 0.02), ('2013-12-15', 69.0, 0.06), ('2013-12-16', 69.0, 2.4), ('2013-12-17', 63.0, 0.01), ('2013-12-18', 63.0, 0.01), ('2013-12-23', 64.0, 0.08), ('2014-12-03', 68.0, 0.17), ('2014-12-04', 67.0, 0.09), ('2014-12-08', 62.0, 0.01), ('2014-12-11', 69.0, 0.01), ('2014-12-17', 64.0, 0.03), ('2014-12-22', 69.0, 0.01), ('2014-12-31', 57.0, 0.7), ('2010-12-03', 67.0, 1.59), ('2010-12-10', 64.0, 1.86), ('2010-12-11', 67.0, 0.58), ('2010-12-12', 69.0, 0.45), ('2010-12-19', 69.0, 2.15), ('2010-12-21', 69.0, 1.44), ('2010-12-22', 69.0, 0.04), ('2010-12-24', 69.0, 0.15), ('2011-12-05', 68.0, 0.22), ('2011-12-06', 67.0, 0.12), ('2011-12-08', 67.0, 0.53), ('2011-12-12', 69.0, 1.71), ('2011-12-13', 69.0, 6.42), ('2011-12-14', 68.0, 1.37), ('2011-12-15', 69.0, 1.18), ('2011-12-16', 69.0, 1.09), ('2011-12-17', 67.0, 0.63), ('2011-12-18', 69.0, 0.3), ('2011-12-19', 68.0, 0.87), ('2011-12-21', 68.0, 1.52), ('2011-12-22', 69.0, 0.27), ('2011-12-24', 65.0, 0.8), ('2011-12-25', 69.0, 0.58), ('2011-12-26', 69.0, 0.05), ('2011-12-27', 69.0, 0.06), ('2011-12-28', 69.0, 0.06), ('2011-12-31', 67.0, 0.25), ('2012-12-08', 69.0, 0.01), ('2012-12-12', 67.0, 0.24), ('2012-12-13', 67.0, 0.44), ('2012-12-14', 69.0, 0.72), ('2012-12-15', 66.0, 0.44), ('2012-12-16', 66.0, 0.48), ('2012-12-17', 69.0, 0.54), ('2012-12-18', 66.0, 2.25), ('2012-12-19', 68.0, 0.34), ('2012-12-20', 65.0, 1.8), ('2012-12-21', 68.0, 0.67), ('2012-12-22', 67.0, 0.12), ('2012-12-26', 69.0, 0.21), ('2012-12-27', 69.0, 0.02), ('2012-12-30', 67.0, 0.1), ('2012-12-31', 65.0, 0.04), ('2013-12-01', 68.0, 0.14), ('2013-12-02', 67.0, 2.02), ('2013-12-12', 68.0, 0.09), ('2013-12-15', 68.0, 0.01), ('2013-12-16', 64.0, 1.13), ('2013-12-19', 68.0, 2.0), ('2013-12-21', 69.0, 1.14), ('2013-12-25', 67.0, 0.41), ('2013-12-30', 69.0, 0.02), ('2014-12-03', 67.0, 1.82), ('2014-12-12', 68.0, 0.83), ('2014-12-14', 67.0, 1.75), ('2014-12-15', 65.0, 0.55), ('2014-12-16', 66.0, 0.58), ('2014-12-18', 69.0, 0.21), ('2014-12-22', 67.0, 0.59), ('2014-12-23', 68.0, 4.03), ('2014-12-24', 64.0, 0.4), ('2014-12-25', 66.0, 0.03), ('2015-12-07', 69.0, 0.04), ('2015-12-17', 69.0, 0.43), ('2015-12-19', 68.0, 1.19), ('2015-12-26', 69.0, 0.81), ('2015-12-31', 69.0, 0.1), ('2016-12-03', 67.0, 1.62), ('2016-12-05', 67.0, 1.6), ('2016-12-07', 68.0, 0.02), ('2016-12-09', 68.0, 0.42), ('2016-12-10', 68.0, 0.04), ('2016-12-11', 69.0, 0.13), ('2016-12-12', 65.0, 0.01), ('2016-12-14', 69.0, 0.33), ('2016-12-15', 64.0, 0.03), ('2016-12-22', 68.0, 1.24), ('2016-12-23', 69.0, 0.83), ('2016-12-24', 69.0, 1.08), ('2016-12-25', 69.0, 0.38), ('2016-12-29', 69.0, 1.03), ('2016-12-30', 65.0, 2.37), ('2016-12-31', 65.0, 0.9)]\n"
     ]
    }
   ],
   "source": [
    "print(december_bad_days_query.all())"
   ]
  },
  {
   "cell_type": "code",
   "execution_count": null,
   "metadata": {},
   "outputs": [],
   "source": []
  }
 ],
 "metadata": {
  "kernelspec": {
   "display_name": "Python 3",
   "language": "python",
   "name": "python3"
  },
  "language_info": {
   "codemirror_mode": {
    "name": "ipython",
    "version": 3
   },
   "file_extension": ".py",
   "mimetype": "text/x-python",
   "name": "python",
   "nbconvert_exporter": "python",
   "pygments_lexer": "ipython3",
   "version": "3.7.2"
  }
 },
 "nbformat": 4,
 "nbformat_minor": 2
}
